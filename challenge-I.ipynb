{
  "nbformat": 4,
  "nbformat_minor": 0,
  "metadata": {
    "colab": {
      "name": "itx_bayramsekeri_SOL.ipynb",
      "provenance": [],
      "collapsed_sections": []
    },
    "kernelspec": {
      "display_name": "Python 3",
      "name": "python3"
    },
    "language_info": {
      "name": "python"
    }
  },
  "cells": [
    {
      "cell_type": "markdown",
      "metadata": {
        "id": "836jc2ZBepE9"
      },
      "source": [
        "**I-** Write a Python program to check if a given positive integer is a power of three"
      ]
    },
    {
      "cell_type": "code",
      "metadata": {
        "id": "jqc_Msrdey75"
      },
      "source": [
        "def Power(n):\n",
        "    while (n % 3 == 0): n /= 3; \n",
        "    return n == 1;\n",
        "\n",
        "print(Power(1))\n",
        "print(Power(25))\n",
        "print(Power(27))"
      ],
      "execution_count": null,
      "outputs": []
    },
    {
      "cell_type": "markdown",
      "metadata": {
        "id": "mKB_ADTxezYb"
      },
      "source": [
        "**II-** Write a Python program to check if a number is a perfect square"
      ]
    },
    {
      "cell_type": "code",
      "metadata": {
        "colab": {
          "base_uri": "https://localhost:8080/"
        },
        "id": "t2cq_kcCezsU",
        "outputId": "aa85fafc-b4fa-436d-8f0c-0fd743f3b493"
      },
      "source": [
        "def is_perfect_square(n):\n",
        "    x = n // 2\n",
        "    y = set([x])\n",
        "    while x * x != n:\n",
        "        x = (x + (n // x)) // 2\n",
        "        if x in y: return False\n",
        "        y.add(x)\n",
        "    return True\n",
        "\n",
        "print(is_perfect_square(64))"
      ],
      "execution_count": null,
      "outputs": [
        {
          "output_type": "stream",
          "text": [
            "True\n"
          ],
          "name": "stdout"
        }
      ]
    },
    {
      "cell_type": "code",
      "metadata": {
        "id": "MCP5L-MaVXmE"
      },
      "source": [
        "import math\n",
        "\n",
        "number = int(input(\"Number: \"))\n",
        "\n",
        "x = math.sqrt(number)\n",
        "if int(x + 0.5) ** 2 == number:\n",
        "    print(number, \"perfect square\")\n",
        "else:\n",
        "    print(number, \"not a perfect square\")"
      ],
      "execution_count": null,
      "outputs": []
    },
    {
      "cell_type": "markdown",
      "metadata": {
        "id": "J7Xr1ZwLez0k"
      },
      "source": [
        "**III-** Write a Python program to check if an integer is the power of another integer"
      ]
    },
    {
      "cell_type": "code",
      "metadata": {
        "id": "S-DG7ygMe3zD"
      },
      "source": [
        "def Power(x, y):\n",
        "   while x % y == 0:\n",
        "       x = x / y\n",
        "   return x == 1\n",
        "print(Power(24, 2))\n",
        "print(Power(25, 5))\n",
        "print(Power(81, 3))"
      ],
      "execution_count": null,
      "outputs": []
    },
    {
      "cell_type": "markdown",
      "metadata": {
        "id": "AUPm3UovfBgH"
      },
      "source": [
        "**IV-** Write a Python program to find the single number in a list that doesn't occur twice."
      ]
    },
    {
      "cell_type": "code",
      "metadata": {
        "id": "KFogahHJfBnr"
      },
      "source": [
        "def fu(x):\n",
        "    result = 0\n",
        "    for i in x:\n",
        "        result ^= i\n",
        "    return result\n",
        "a = [1, 2, 5, 8, 8, 5, 1]\n",
        "\n",
        "print(fu(a))"
      ],
      "execution_count": null,
      "outputs": []
    },
    {
      "cell_type": "markdown",
      "metadata": {
        "id": "lWX3iqvqfBul"
      },
      "source": [
        "**V-** Write a Python program to find the length of the last word."
      ]
    },
    {
      "cell_type": "code",
      "metadata": {
        "id": "9tZVvlTNfB1-"
      },
      "source": [
        "def len1(s):\n",
        "        word = s.split()\n",
        "        if len(word) == 0:\n",
        "            return 0\n",
        "        return len(word[-1])\n",
        "\n",
        "print(length_of_last_word(\"Clarusway ITX\"))\n",
        "print(length_of_last_word(\"Python quest\"))"
      ],
      "execution_count": null,
      "outputs": []
    },
    {
      "cell_type": "markdown",
      "metadata": {
        "id": "AJdyhRwYfB9V"
      },
      "source": [
        "**VI-** Print the two lists given with their sequence numbers\n",
        "\n",
        "\n",
        "\n",
        "```\n",
        "Countries=[\"Turkey\",\"Italy\",\"Spain\",\"Portugal\",\"France\"]\n",
        "Capitals=[\"Ankara\",\"Rome\",\"Madrid\",\"Lisbon\",\"Paris\"]```\n",
        "\n",
        "Expected output:0 Turkey Ankara\n",
        "\n"
      ]
    },
    {
      "cell_type": "code",
      "metadata": {
        "id": "uJvgdMvofCEl"
      },
      "source": [
        "Countries=[\"Turkey\",\"Italy\",\"Spain\",\"Portugal\",\"France\"]\n",
        "Capitals=[\"Ankara\",\"Rome\",\"Madrid\",\"Lisbon\",\"Paris\"]\n",
        "Countries_Capital=zip(Countries,Capitals)\n",
        "for sira,data in enumerate(Countries_Capital):\n",
        "    country,capital=data\n",
        "    print(sira,country,capital)"
      ],
      "execution_count": null,
      "outputs": []
    },
    {
      "cell_type": "markdown",
      "metadata": {
        "id": "nGAmkE2yfCLV"
      },
      "source": [
        "**VII-** The Fibonacci sequence is a series of numbers where a number is the addition of the last two numbers, starting with 0, and 1.\n",
        "\n",
        "The Fibonacci Sequence: 0, 1, 1, 2, 3, 5, 8, 13, 21, 34, 55…\n",
        "\n",
        "Written as a rule, the expression is:\n",
        "\n",
        "Xn = Xn-1 + Xn-2\n",
        "\n",
        "Write a Python program to find the Fibonacci number corresponding to the sequence number entered by the user"
      ]
    },
    {
      "cell_type": "code",
      "metadata": {
        "colab": {
          "base_uri": "https://localhost:8080/"
        },
        "id": "lTnunFL0fCSL",
        "outputId": "1eb6b3bd-b13b-4b57-b41c-f24222460fd3"
      },
      "source": [
        "def Fibonacci(n): \n",
        "    if n<0: \n",
        "        print(\"Incorrect input\") \n",
        "    # First Fibonacci number is 0 \n",
        "    elif n==1: \n",
        "        return 0\n",
        "    # Second Fibonacci number is 1 \n",
        "    elif n==2: \n",
        "        return 1\n",
        "    else: \n",
        "        return Fibonacci(n-1)+Fibonacci(n-2) \n",
        "print(Fibonacci(13))"
      ],
      "execution_count": 25,
      "outputs": [
        {
          "output_type": "stream",
          "text": [
            "144\n"
          ],
          "name": "stdout"
        }
      ]
    },
    {
      "cell_type": "markdown",
      "metadata": {
        "id": "kXmgBPN2fCZq"
      },
      "source": [
        "**VIII-** Write a Python script to generate and print a dictionary that contains a number (between 1 and n) in the form (x, x*x)\n",
        "\n",
        "Sample Output: {1: 1, 2: 4, 3: 9, 4: 16}"
      ]
    },
    {
      "cell_type": "code",
      "metadata": {
        "id": "izLN9X0jfCgd"
      },
      "source": [
        "n=int(input(\"Input a number \"))\n",
        "dict1 = dict()\n",
        "\n",
        "for x in range(1,n+1):\n",
        "    dict1[x]=x*x\n",
        "\n",
        "print(dict1) "
      ],
      "execution_count": null,
      "outputs": []
    },
    {
      "cell_type": "markdown",
      "metadata": {
        "id": "jzTA0O7_tFHW"
      },
      "source": [
        "**IX-** Write a Python program to construct the following pattern, using a nested for loop\n",
        "\n",
        "Expected output\n",
        "\n",
        "\n",
        "```\n",
        "+\n",
        "++\n",
        "+++\n",
        "++++\n",
        "+++++\n",
        "++++\n",
        "+++\n",
        "++\n",
        "+\n",
        "```\n",
        "\n"
      ]
    },
    {
      "cell_type": "code",
      "metadata": {
        "id": "GuR1S55ftFWo",
        "colab": {
          "base_uri": "https://localhost:8080/"
        },
        "outputId": "2507cbee-3a15-46c6-b2ec-8684f7bdd36d"
      },
      "source": [
        "n=5;\n",
        "for i in range(n): # yukarisi icin\n",
        "    for j in range(i):\n",
        "        print ('+ ', end=\"\")\n",
        "    print('a')\n",
        "\n",
        "for i in range(n,0,-1): #asagisi icin\n",
        "    for j in range(i):\n",
        "        print('+ ', end=\"\")\n",
        "    print('')\t"
      ],
      "execution_count": 33,
      "outputs": [
        {
          "output_type": "stream",
          "text": [
            "a\n",
            "+ a\n",
            "+ + a\n",
            "+ + + a\n",
            "+ + + + a\n",
            "+ + + + + \n",
            "+ + + + \n",
            "+ + + \n",
            "+ + \n",
            "+ \n"
          ],
          "name": "stdout"
        }
      ]
    },
    {
      "cell_type": "markdown",
      "metadata": {
        "id": "pItGkzzJtFh1"
      },
      "source": [
        "**X-** Write a Python program to calculate a dog's age in dog's years.\n",
        "* Note:  \n",
        "\n",
        "*   For the first two years, a dog year is equal to 10.5 human years.\n",
        "*   After that, each dog year equals 4 human years\n"
      ]
    },
    {
      "cell_type": "code",
      "metadata": {
        "id": "oZZ6CvbktFsh"
      },
      "source": [
        "humanAge = int(input(\"Enter dog's age: \"))\n",
        "\n",
        "i = 0\n",
        "dogAge = 0\n",
        "\n",
        "for i in range(0, humanAge):\n",
        " if dogAge <= 2:\n",
        "  i += 1\n",
        "  dogAge = i * 10.5\n",
        " else:\n",
        "  dogAge = 2 * 10.5 + (i-1) * 4\n",
        "\n",
        "print(f\"The dog's age in human's years is: {dogAge}\")"
      ],
      "execution_count": null,
      "outputs": []
    },
    {
      "cell_type": "markdown",
      "metadata": {
        "id": "sIxMzDg-tF17"
      },
      "source": [
        "**XI-** Write a Python program to display the sign of the Chinese Zodiac for given year in which you were born"
      ]
    },
    {
      "cell_type": "code",
      "metadata": {
        "id": "UmW_qnQutF_B"
      },
      "source": [
        "year = int(input(\"Input birth year please: \"))\n",
        "if year % 12 == 0:\n",
        " sign = 'Monkey'\n",
        "elif year % 12 == 1:\n",
        " sign = 'Rooster'\n",
        "elif year % 12 == 2:\n",
        " sign = 'Dog'\n",
        "elif year % 12 == 3:\n",
        " sign = 'Pig'\n",
        "elif year % 12 == 4:\n",
        " sign = 'Rat'\n",
        "elif year % 12 == 5:\n",
        " sign = 'Ox'\n",
        "elif year % 12 == 6:\n",
        " sign = 'Tiger'\n",
        "elif year % 12 == 7:\n",
        " sign = 'Hare'\n",
        "elif year % 12 == 8:\n",
        " sign = 'Dragon'\n",
        "elif year % 12 == 9:\n",
        " sign = 'Snake'\n",
        "elif year % 12 == 10:\n",
        " sign = 'Horse'\n",
        "elif year % 12 == 11:\n",
        " sign = 'Sheep'\n",
        "print(f\"Your Zodiac sign : {sign}\")"
      ],
      "execution_count": null,
      "outputs": []
    },
    {
      "cell_type": "markdown",
      "metadata": {
        "id": "0DUs3VV4tGGT"
      },
      "source": [
        "***XII-*** Write a Python program to construct the following pattern, using a nested loop number\n",
        "\n",
        "Expected output\n",
        "\n",
        "\n",
        "```\n",
        "1\n",
        "22\n",
        "333\n",
        "4444\n",
        "55555\n",
        "666666\n",
        "7777777\n",
        "88888888\n",
        "999999999\n",
        "```\n",
        "\n",
        "\n",
        "\n"
      ]
    },
    {
      "cell_type": "code",
      "metadata": {
        "id": "BXTfGoIwtGOJ"
      },
      "source": [
        "for e in range(10):\n",
        "    print(str(e) * e)"
      ],
      "execution_count": null,
      "outputs": []
    },
    {
      "cell_type": "markdown",
      "metadata": {
        "id": "1lgqGDAztGVK"
      },
      "source": [
        "**XIII-** Write a Python function to find the Max of three numbers"
      ]
    },
    {
      "cell_type": "code",
      "metadata": {
        "id": "XHSb37zEtGbo"
      },
      "source": [
        "def max1( a, b ): # ilk karsilastirma\n",
        "    if a > b:\n",
        "        return a\n",
        "    return b\n",
        "def max2( a, b, c ): # son karsilastirma\n",
        "    return max1( a, max1( b, c ) )\n",
        "print(max2(2, 7, -5))"
      ],
      "execution_count": null,
      "outputs": []
    },
    {
      "cell_type": "markdown",
      "metadata": {
        "id": "E5-LJf-0tGic"
      },
      "source": [
        "**XIV-** Write a Python function to multiply all the numbers in a list"
      ]
    },
    {
      "cell_type": "code",
      "metadata": {
        "id": "Zuh04nRWtGor",
        "colab": {
          "base_uri": "https://localhost:8080/"
        },
        "outputId": "4a3f5096-11ce-4a3a-d5b7-77a081091fd0"
      },
      "source": [
        "def multiply(numbers):  \n",
        "    total = 1\n",
        "    for x in numbers:\n",
        "        total *= x  \n",
        "    return total  \n",
        "print(multiply((8, 2, 1/8, -1, -5)))"
      ],
      "execution_count": 40,
      "outputs": [
        {
          "output_type": "stream",
          "text": [
            "10.0\n"
          ],
          "name": "stdout"
        }
      ]
    },
    {
      "cell_type": "markdown",
      "metadata": {
        "id": "aZHCvZSatGu6"
      },
      "source": [
        "**XV-** Write a Python program to reverse a string.\n",
        "\n",
        "\n",
        "`Sample String : \"1234abcd\"`\n",
        "\n",
        "`Expected Output : \"dcba4321\"`\n"
      ]
    },
    {
      "cell_type": "code",
      "metadata": {
        "id": "kE3mB1a1tG0-"
      },
      "source": [
        "def reverse(string):\n",
        " print(string[::-1])\n",
        "\n",
        "reverse('David')\n",
        "\n"
      ],
      "execution_count": null,
      "outputs": []
    },
    {
      "cell_type": "markdown",
      "metadata": {
        "id": "m0-vkmKMtG6r"
      },
      "source": [
        "**XVI-** Write a Python function that takes a list and returns a new list with unique elements of the first list\n",
        "\n",
        "For Example:\n",
        "\n",
        "`list1 = [1,2,3,3,3,3,4]`\n",
        "\n",
        "expected output:\n",
        "\n",
        "`[1, 2, 3, 4, 5]`"
      ]
    },
    {
      "cell_type": "code",
      "metadata": {
        "id": "5FchIeOttG_c"
      },
      "source": [
        "def uniquel(l):\n",
        "  x = []\n",
        "  for a in l:\n",
        "    if a not in x:\n",
        "      x.append(a)\n",
        "  return x\n",
        "\n",
        "print(uniquel([1,2,3,3,3,3,4,5])) "
      ],
      "execution_count": null,
      "outputs": []
    },
    {
      "cell_type": "markdown",
      "metadata": {
        "id": "JUc61KibF4CK"
      },
      "source": [
        "**XVII-** Write a Python program to print the odd numbers from a given list"
      ]
    },
    {
      "cell_type": "code",
      "metadata": {
        "id": "xwpnmMmfF4Mi"
      },
      "source": [
        "def num1(l):\n",
        "    num = []\n",
        "    for n in l:\n",
        "        if n % 2 != 0:\n",
        "            num.append(n)\n",
        "    return num\n",
        "print(num1([1, 2, 3, 4, 5, 6, 7, 8, 9]))"
      ],
      "execution_count": null,
      "outputs": []
    },
    {
      "cell_type": "markdown",
      "metadata": {
        "id": "Ey1ptF1CGY9c"
      },
      "source": [
        "**XVIII-** Write a program which will find all such numbers which are divisible by 7 but are not a multiple of 5,\n",
        "between 2000 and 3200 (both included)\n",
        "\n"
      ]
    },
    {
      "cell_type": "code",
      "metadata": {
        "id": "OX5He3XTGZOv"
      },
      "source": [
        "y = []\n",
        "x=2000\n",
        "\n",
        "while x <= 3200:\n",
        " x = x + 1\n",
        " if x % 7 == 0 and x % 5 == 1:\n",
        "  y.append(x)\n",
        "print(y)"
      ],
      "execution_count": null,
      "outputs": []
    },
    {
      "cell_type": "markdown",
      "metadata": {
        "id": "0ha7u8X0HXA1"
      },
      "source": [
        "**XIX-** Write a program which can compute the factorial of a given numbers"
      ]
    },
    {
      "cell_type": "code",
      "metadata": {
        "id": "4VCy_9veHXJ-"
      },
      "source": [
        "def fact1(x):\n",
        "    if x == 0:\n",
        "        return 1\n",
        "    return x * fact1(x - 1)\n",
        "\n",
        "x= int(input('number '))\n",
        "print (fact1(9))"
      ],
      "execution_count": null,
      "outputs": []
    },
    {
      "cell_type": "markdown",
      "metadata": {
        "id": "gavXsMOUHXRF"
      },
      "source": [
        "**XX-** Write a program to find if a three-digit number is an Armstrong Number.\n",
        "\n",
        "A positive integer is called an Armstrong number of order n if\n",
        "\n",
        "\n",
        "```\n",
        "abcd... = an + bn + cn + dn + ...\n",
        "```\n",
        "In case of an Armstrong number of 3 digits, the sum of cubes of each digit is equal to the number itself. For example:\n",
        "\n",
        "\n",
        "\n",
        "```\n",
        "153 = 1*1*1 + 5*5*5 + 3*3*3  // 153 is an Armstrong number.\n",
        "```\n",
        "\n",
        "\n",
        "\n"
      ]
    },
    {
      "cell_type": "code",
      "metadata": {
        "id": "pMANX9UzHXZE"
      },
      "source": [
        "num = int(input(\"Enter a number: \"))\n",
        "sum = 0\n",
        "\n",
        "x = num\n",
        "while x > 0:\n",
        "   y = x % 10    # find the sum of the cube of each digit\n",
        "   sum += y ** 3\n",
        "   x //= 10\n",
        "\n",
        "if num == sum:\n",
        "   print(num,\"is an Armstrong number\")\n",
        "else:\n",
        "   print(num,\"is not an Armstrong number\")\n"
      ],
      "execution_count": null,
      "outputs": []
    },
    {
      "cell_type": "markdown",
      "metadata": {
        "id": "Pk6HONx2HXfi"
      },
      "source": [
        "**XXI-** Write a program to find the numbers divisible by another number and display it.\n",
        "\n",
        "For examples: \n",
        "\n",
        "`list1 = [12, 65, 54, 39, 102, 339, 221] `\n",
        "\n",
        "let's say we are looking to see if the elements in the list are divisible by 13\n",
        "\n",
        "expected output:\n",
        "\n",
        "`Numbers divisible by 13 are [65, 39, 221]`"
      ]
    },
    {
      "cell_type": "code",
      "metadata": {
        "id": "84oPI3yOHXnB"
      },
      "source": [
        "list1 = [12, 65, 54, 39, 102, 339, 221]\n",
        "a = int(input('please give division number: '))\n",
        "\n",
        "result = list(filter(lambda x: (x % a == 0), list1))\n",
        "\n",
        "print(f\"Numbers divisible by {a} are\",result)"
      ],
      "execution_count": null,
      "outputs": []
    },
    {
      "cell_type": "markdown",
      "metadata": {
        "id": "qSVlom1qHXtd"
      },
      "source": [
        "**XXII-** Write a program to sort the words in alphabetic order and display it\n",
        "\n",
        "For examples:\n",
        "\n",
        "`str1 = \"happy holidays for all clarusway members\"`\n",
        "\n",
        "expected output:\n",
        "\n",
        "```\n",
        "all\n",
        "clarusway\n",
        "for\n",
        "happy\n",
        "holidays\n",
        "members\n",
        "```"
      ]
    },
    {
      "cell_type": "code",
      "metadata": {
        "id": "S3OYgTtuHX2v"
      },
      "source": [
        "#str1 = \"happy holidays for all clarusway members\"\n",
        "str1 = input(\"Enter a string: \")\n",
        "\n",
        "words = [word.lower() for word in str1.split()]\n",
        "words.sort()\n",
        "\n",
        "print(\"The sorted words:\")\n",
        "for word in words:\n",
        "   print(word)\n"
      ],
      "execution_count": null,
      "outputs": []
    },
    {
      "cell_type": "markdown",
      "metadata": {
        "id": "sDB3Gx5uHX83"
      },
      "source": [
        "**XXIII-** Write a program to sort a dictionary by value\n",
        "\n",
        "For examples:\n",
        "\n",
        "`dict1 = {7:4, 13:6, 6:9}`\n",
        "\n",
        "expected output:\n",
        "\n",
        "`{7: 4, 13: 6, 6: 9}`"
      ]
    },
    {
      "cell_type": "code",
      "metadata": {
        "id": "Rsip3xW9HYDQ"
      },
      "source": [
        "dict1 = {7:4, 13:6, 6:9}\n",
        "\n",
        "sorted_dt = {key: value for key, value in sorted(dict1.items(), key=lambda item: item[1])}\n",
        "\n",
        "print(sorted_dt)"
      ],
      "execution_count": null,
      "outputs": []
    },
    {
      "cell_type": "markdown",
      "metadata": {
        "id": "xSN9j162LWR2"
      },
      "source": [
        "**XXIV-** Write a program that takes a string. If the string is all uppercase characters, convert it to lowercase\n",
        "\n",
        "\n",
        "`\"UPS.. SORRY I FORGET CAPS LOCK ON\"` ➞ `\"sorry i forgot caps lock on\"`"
      ]
    },
    {
      "cell_type": "code",
      "metadata": {
        "id": "mDfQgTZLLWaq"
      },
      "source": [
        "txt1 = input('say something ') \n",
        "\n",
        "def lower1(txt):\n",
        "\tif txt.isupper()==True:\n",
        "\t\treturn txt.lower().capitalize()\n",
        "\telse:\n",
        "\t\treturn txt\n",
        "    \n",
        "print(lower1(txt1))"
      ],
      "execution_count": null,
      "outputs": []
    },
    {
      "cell_type": "markdown",
      "metadata": {
        "id": "5HP1tsdTbo3o"
      },
      "source": [
        "**QUEST XXV-** Write a Python program to construct the following pattern\n",
        "\n",
        "```\n",
        "1 \n",
        "1 2 \n",
        "1 2 3 \n",
        "1 2 3 4 \n",
        "1 2 3 4 5\n",
        "```\n",
        "\n"
      ]
    },
    {
      "cell_type": "code",
      "metadata": {
        "id": "U2qgWgbMbpBN"
      },
      "source": [
        "print(\"Second Number Pattern \")\n",
        "lastNumber = 6\n",
        "for row in range(1, lastNumber):\n",
        "    for column in range(1, row + 1):\n",
        "        print(column, end=' ')\n",
        "    print(\"\")"
      ],
      "execution_count": null,
      "outputs": []
    },
    {
      "cell_type": "markdown",
      "metadata": {
        "id": "dX1hRkjEcWUf"
      },
      "source": [
        "**QUEST XXVI-** Write a program to accept number from user and calculate the sum of all number from 1 to a given number\n",
        "\n",
        "For example, if user entered 10 the output should be 55\n",
        "\n",
        "(10+9+8+7+6+5+4+3+2+1 = 55)"
      ]
    },
    {
      "cell_type": "code",
      "metadata": {
        "id": "3altCT1YcWeb",
        "colab": {
          "base_uri": "https://localhost:8080/"
        },
        "outputId": "e51f1463-b090-4d04-c3c3-e8b056afe46a"
      },
      "source": [
        "sum1 = 0\n",
        "n = int(input(\"Please enter number \"))\n",
        "for i in range(1, n + 1):\n",
        "    sum1 += i\n",
        "print(\"\\n\")\n",
        "print(f\"Sum is {sum1} \")"
      ],
      "execution_count": 56,
      "outputs": [
        {
          "output_type": "stream",
          "text": [
            "Please enter number 9\n",
            "\n",
            "\n",
            "Sum is 45 \n"
          ],
          "name": "stdout"
        }
      ]
    },
    {
      "cell_type": "markdown",
      "metadata": {
        "id": "PqFTRA8ncWqr"
      },
      "source": [
        "**QUEST XXVII-** Write a Python program to construct the following pattern\n",
        "\n",
        "```\n",
        "5 4 3 2 1 \n",
        "4 3 2 1 \n",
        "3 2 1 \n",
        "2 1 \n",
        "1\n",
        "```\n",
        "\n"
      ]
    },
    {
      "cell_type": "code",
      "metadata": {
        "id": "-5y3dputcWyz"
      },
      "source": [
        "n = 5\n",
        "k = 5\n",
        "for i in range(0,n+1):\n",
        "    for j in range(k-i,0,-1):\n",
        "        print(j,end=' ')\n",
        "    print()"
      ],
      "execution_count": null,
      "outputs": []
    },
    {
      "cell_type": "markdown",
      "metadata": {
        "id": "Df6oQOuWcW5y"
      },
      "source": [
        "**QUEST XXVIII-** Write a program which display the cube of the number up to a given integer\n",
        "\n",
        "For Example: \n",
        "\n",
        "`num1 = 6`\n",
        "\n",
        "Expected output:\n",
        "\n",
        "```\n",
        "Current Number is : 1  and the cube is 1\n",
        "Current Number is : 2  and the cube is 8\n",
        "Current Number is : 3  and the cube is 27\n",
        "Current Number is : 4  and the cube is 64\n",
        "Current Number is : 5  and the cube is 125\n",
        "Current Number is : 6  and the cube is 216\n",
        "```\n",
        "\n"
      ]
    },
    {
      "cell_type": "code",
      "metadata": {
        "id": "_uguyElxcXAo"
      },
      "source": [
        "num = 6\n",
        "for i in range(1, num + 1):\n",
        "    print(\"Current Number is :\", i, \" and the cube is\", (i ** 3))"
      ],
      "execution_count": null,
      "outputs": []
    },
    {
      "cell_type": "markdown",
      "metadata": {
        "id": "pnYxB3zYeZcl"
      },
      "source": [
        "**QUEST XXIX-** Write a program to split a given string on hyphens into several substrings and display each substring\n",
        "\n",
        "For Examples :\n",
        "\n",
        "`str1 = \"Emre-is-a-data-scientist\"`\n",
        "\n",
        "Expected output:\n",
        "```\n",
        "Emre\n",
        "is\n",
        "a\n",
        "data\n",
        "scientist\n",
        "```\n",
        "\n",
        "\n",
        "\n"
      ]
    },
    {
      "cell_type": "code",
      "metadata": {
        "id": "ZdesXGI5eZml"
      },
      "source": [
        "str1 = \"Emre-is-a-data-scientist\"\n",
        "print(f\"Original String is {str1}\")\n",
        "\n",
        "substrings = str1.split(\"-\") # split string\n",
        "\n",
        "for sub in substrings:\n",
        "    print(sub)\n"
      ],
      "execution_count": null,
      "outputs": []
    },
    {
      "cell_type": "markdown",
      "metadata": {
        "id": "9FXSbm6IeZ4i"
      },
      "source": [
        "**QUEST XXX-** Write a function that prints the salary and employee name from the user\n",
        "\n",
        "For Example:\n",
        "```\n",
        "name: emre\n",
        "\n",
        "price: 5000\n",
        "Employee emre salary is: $ 5000\n",
        "```\n",
        "\n"
      ]
    },
    {
      "cell_type": "code",
      "metadata": {
        "colab": {
          "base_uri": "https://localhost:8080/"
        },
        "id": "Kido1-CGeaAE",
        "outputId": "b81801d4-183e-4022-fb0d-c9a01edaf9a7"
      },
      "source": [
        "def Employee(name = input('Name: '), salary = int(input('Price: '))):\n",
        "    print(\"Employee\", name, \"salary is:\", '$',salary)\n",
        "\n",
        "print(Employee())"
      ],
      "execution_count": 60,
      "outputs": [
        {
          "output_type": "stream",
          "text": [
            "Name: emre\n",
            "Price: 5000\n",
            "Employee emre salary is: $ 5000\n",
            "None\n"
          ],
          "name": "stdout"
        }
      ]
    }
  ]
}